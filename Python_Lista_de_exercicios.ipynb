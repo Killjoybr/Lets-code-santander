{
 "cells": [
  {
   "cell_type": "code",
   "execution_count": 68,
   "id": "3a9556d3-a542-427b-b064-b03beec4d2fa",
   "metadata": {},
   "outputs": [
    {
     "name": "stdin",
     "output_type": "stream",
     "text": [
      "digite um número  5\n"
     ]
    },
    {
     "name": "stdout",
     "output_type": "stream",
     "text": [
      "1\n",
      "2\n",
      "3\n",
      "4\n",
      "5\n"
     ]
    }
   ],
   "source": [
    "import numpy as np\n",
    "#Aluno: Ruan David Da Silva\n",
    "#Trilha: Engenharia de Dados\n",
    "\n",
    "#questão1\n",
    "#Faça um programa que peça ao usuário um número e imprima todos os números de um até o número que o usuário informar.\n",
    "\n",
    "contador=0\n",
    "numero=(int(input('digite um número ')))\n",
    "while numero > contador:\n",
    "    contador = contador + 1\n",
    "    print(contador)"
   ]
  },
  {
   "cell_type": "code",
   "execution_count": 104,
   "id": "dc019baf-a934-40db-8d9e-5139b3fc50e8",
   "metadata": {},
   "outputs": [
    {
     "name": "stdin",
     "output_type": "stream",
     "text": [
      "digite um número 50\n"
     ]
    },
    {
     "name": "stdout",
     "output_type": "stream",
     "text": [
      "50 74.9\n"
     ]
    }
   ],
   "source": [
    "#Aluno: Ruan David Da Silva\n",
    "#Trilha: Engenharia de Dados\n",
    "\n",
    "#questão2\n",
    "#Crie um programa que leia um valor qualquer e apresente uma mensagem dizendo em qual\n",
    "#dos seguintes intervalos ([0,25], (25,50], (50,75], (75,100]) este valor se encontra. Caso o valor não\n",
    "#esteja em nenhum destes intervalos, deverá ser impressa a mensagem “Fora de intervalo”.:\n",
    "\n",
    "\n",
    "intervalos=[ (0,24.9),\n",
    "(25,49.9),\n",
    "(50,74.9),\n",
    "(75,100)\n",
    "]\n",
    "valor=(float(input('digite um número')))\n",
    "for i in intervalos:\n",
    "    start,end=i\n",
    "    if start <= valor < end:\n",
    "        print(start,end)\n",
    "    elif  valor < 0:\n",
    "        print('Fora de intervalo')\n",
    "        break\n",
    "    elif valor > 100:\n",
    "        print('Fora de intervalo')\n",
    "        break"
   ]
  },
  {
   "cell_type": "code",
   "execution_count": 107,
   "id": "8c25f430-f0f9-47e2-aadc-e5a721416337",
   "metadata": {},
   "outputs": [
    {
     "name": "stdin",
     "output_type": "stream",
     "text": [
      "Digite o raio do circulo 5\n"
     ]
    },
    {
     "name": "stdout",
     "output_type": "stream",
     "text": [
      "Area do circulo = 78.53981633974483\n"
     ]
    }
   ],
   "source": [
    "#Aluno: Ruan David Da Silva\n",
    "#Trilha: Engenharia de Dados\n",
    "\n",
    "#questão3\n",
    "#Crie uma função que recebe o valor do raio de um círculo como parâmetro e retorna o valor da\n",
    "#área desse círculo. Lembrando que a área de círculo é dada pela equação: A = ℼ r^2.\n",
    "\n",
    "raio=(int(input('Digite o raio do circulo')))\n",
    "area=(np.pi*(raio**2))\n",
    "print('Area do circulo =',area)"
   ]
  },
  {
   "cell_type": "code",
   "execution_count": 96,
   "id": "e7a77d9e-b0b1-433a-93b6-5fbb93a797b1",
   "metadata": {},
   "outputs": [
    {
     "name": "stdin",
     "output_type": "stream",
     "text": [
      " 25\n",
      " 15\n",
      " 10\n"
     ]
    },
    {
     "name": "stdout",
     "output_type": "stream",
     "text": [
      "o produto entre o dobro do primeiro e a metade do segundo. =  375.0\n",
      "a soma entre o triplo do primeiro e o terceiro. = 85.0\n",
      "o terceiro elevado ao cubo = 1000.0\n"
     ]
    }
   ],
   "source": [
    "#Aluno: Ruan David Da Silva\n",
    "#Trilha: Engenharia de Dados\n",
    "\n",
    "#questão4\n",
    "#Faça um programa que peça 2 números inteiros e um número real, calcule e mostre:\n",
    "#a) o produto entre o dobro do primeiro e a metade do segundo.\n",
    "#b) a soma entre o triplo do primeiro e o terceiro.\n",
    "#c) o terceiro elevado ao cubo\n",
    "\n",
    "inteiro1=(int(input()))\n",
    "inteiro2=(int(input()))\n",
    "real=(float(input()))\n",
    "a=(inteiro1*2) * (inteiro2/2)\n",
    "b=(inteiro1*3)+real\n",
    "c=real**3\n",
    "print('o produto entre o dobro do primeiro e a metade do segundo. = ',a)\n",
    "print('a soma entre o triplo do primeiro e o terceiro. =',b)\n",
    "print('o terceiro elevado ao cubo =',c)"
   ]
  },
  {
   "cell_type": "code",
   "execution_count": 167,
   "id": "1004474a-3464-4438-89b7-149da63206bc",
   "metadata": {},
   "outputs": [
    {
     "name": "stdin",
     "output_type": "stream",
     "text": [
      "Mora perto da vítima? sim\n",
      "Já trabalhou com a vítima? SIM\n",
      "Telefonou para a vítima? SiM\n",
      "Esteve no local do crime? nao\n",
      "Devia para a vítima? nao\n"
     ]
    },
    {
     "name": "stdout",
     "output_type": "stream",
     "text": [
      "cúmplices\n"
     ]
    }
   ],
   "source": [
    "#Aluno: Ruan David Da Silva\n",
    "#Trilha: Engenharia de Dados\n",
    "\n",
    "#questão5\n",
    "#Vamos fazer um programa para verificar quem é o assassino de um crime. Para descobrir o\n",
    "#assassino, a polícia faz um pequeno questionário com 5 perguntas onde a resposta só pode ser\n",
    "#sim ou não:\n",
    "#1. Mora perto da vítima?\n",
    "#2. Já trabalhou com a vítima?\n",
    "#3. Telefonou para a vítima?\n",
    "#4. Esteve no local do crime?\n",
    "#5. Devia para a vítima?\n",
    "#Cada resposta sim dá um ponto para o suspeito. A polícia considera que os suspeitos com 5\n",
    "#pontos são os assassinos, com  a 3 pontos4 são cúmplices e 2 pontos são apenas suspeitos,\n",
    "#necessitando de outras investigações. Valores abaixo de 2 são liberados.\n",
    "#No seu programa, você deve fazer essas perguntas e, de acordo com as respostas do usuário,\n",
    "#você vai informar como a polícia o considera.\n",
    "respostas1=input('Mora perto da vítima?').lower()== 'sim'\n",
    "respostas2=input('Já trabalhou com a vítima?').lower()== 'sim'\n",
    "respostas3=input('Telefonou para a vítima?').lower()== 'sim'\n",
    "respostas4=input('Esteve no local do crime?').lower()== 'sim'\n",
    "respostas5=input('Devia para a vítima?').lower() == 'sim'\n",
    "soma_respostas = respostas1 + respostas2 + respostas3 + respostas4 + respostas5\n",
    "\n",
    "if soma_respostas == 5:\n",
    "    print('assassino')\n",
    "elif soma_respostas == 4 or soma_respostas == 3:\n",
    "    print('cúmplices')\n",
    "elif soma_respostas == 2:\n",
    "    print('suspeito')\n",
    "else:\n",
    "    print('liberado')"
   ]
  },
  {
   "cell_type": "code",
   "execution_count": 8,
   "id": "577530a7-af27-4b43-9d7f-cef931ab1c5f",
   "metadata": {},
   "outputs": [
    {
     "name": "stdin",
     "output_type": "stream",
     "text": [
      "insira uma sequencia de numeros 1 2 3 4 5 \n"
     ]
    },
    {
     "name": "stdout",
     "output_type": "stream",
     "text": [
      "['1 2 3 4 5 ']\n"
     ]
    }
   ],
   "source": [
    "#Aluno: Ruan David Da Silva\n",
    "#Trilha: Engenharia de Dados\n",
    "\n",
    "#questão6\n",
    "#Faça uma função que recebe uma lista de números e retorna a soma dos elementos dessa lista.\n",
    "lista=[]\n",
    "lista.append (input('insira uma sequencia de numeros'))\n",
    "print(lista)"
   ]
  },
  {
   "cell_type": "code",
   "execution_count": null,
   "id": "87028fcc-2242-4240-a49c-986e4c4c47b1",
   "metadata": {},
   "outputs": [],
   "source": []
  }
 ],
 "metadata": {
  "kernelspec": {
   "display_name": "Python 3 (ipykernel)",
   "language": "python",
   "name": "python3"
  },
  "language_info": {
   "codemirror_mode": {
    "name": "ipython",
    "version": 3
   },
   "file_extension": ".py",
   "mimetype": "text/x-python",
   "name": "python",
   "nbconvert_exporter": "python",
   "pygments_lexer": "ipython3",
   "version": "3.10.7"
  }
 },
 "nbformat": 4,
 "nbformat_minor": 5
}
