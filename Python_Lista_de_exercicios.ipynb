{
 "cells": [
  {
   "cell_type": "code",
   "execution_count": 68,
   "id": "3a9556d3-a542-427b-b064-b03beec4d2fa",
   "metadata": {},
   "outputs": [
    {
     "name": "stdin",
     "output_type": "stream",
     "text": [
      "digite um número  5\n"
     ]
    },
    {
     "name": "stdout",
     "output_type": "stream",
     "text": [
      "1\n",
      "2\n",
      "3\n",
      "4\n",
      "5\n"
     ]
    }
   ],
   "source": [
    "import numpy as np\n",
    "#Aluno: Ruan David Da Silva\n",
    "#Trilha: Engenharia de Dados\n",
    "\n",
    "#questão1\n",
    "#Faça um programa que peça ao usuário um número e imprima todos os números de um até o número que o usuário informar.\n",
    "\n",
    "contador=0\n",
    "numero=(int(input('digite um número ')))\n",
    "while numero > contador:\n",
    "    contador = contador + 1\n",
    "    print(contador)"
   ]
  },
  {
   "cell_type": "code",
   "execution_count": 88,
   "id": "dc019baf-a934-40db-8d9e-5139b3fc50e8",
   "metadata": {},
   "outputs": [
    {
     "name": "stdin",
     "output_type": "stream",
     "text": [
      "digite um número -500\n"
     ]
    },
    {
     "name": "stdout",
     "output_type": "stream",
     "text": [
      "Fora de intervalo\n"
     ]
    }
   ],
   "source": [
    "#Aluno: Ruan David Da Silva\n",
    "#Trilha: Engenharia de Dados\n",
    "\n",
    "#questão2\n",
    "#Crie um programa que leia um valor qualquer e apresente uma mensagem dizendo em qual\n",
    "#dos seguintes intervalos ([0,25], (25,50], (50,75], (75,100]) este valor se encontra. Caso o valor não\n",
    "#esteja em nenhum destes intervalos, deverá ser impressa a mensagem “Fora de intervalo”.:\n",
    "\n",
    "\n",
    "intervalos=[ (0,25), \n",
    "(25,50),\n",
    "(50,75),\n",
    "(75,100)\n",
    "]\n",
    "valor=(float(input('digite um número')))\n",
    "for i in intervalos:\n",
    "    start,end=i\n",
    "    if start <= valor < end:\n",
    "        print(start,end)\n",
    "    elif  valor < 0:\n",
    "        print('Fora de intervalo')\n",
    "        break\n",
    "    elif valor > 100:\n",
    "        print('Fora de intervalo')\n",
    "        break"
   ]
  },
  {
   "cell_type": "code",
   "execution_count": 71,
   "id": "8c25f430-f0f9-47e2-aadc-e5a721416337",
   "metadata": {},
   "outputs": [
    {
     "name": "stdin",
     "output_type": "stream",
     "text": [
      "Digite o raio do circulo 5\n"
     ]
    },
    {
     "name": "stdout",
     "output_type": "stream",
     "text": [
      "Area do circulo = 78.53981633974483\n"
     ]
    }
   ],
   "source": [
    "#Aluno: Ruan David Da Silva\n",
    "#Trilha: Engenharia de Dados\n",
    "\n",
    "#questão3\n",
    "#Crie uma função que recebe o valor do raio de um círculo como parâmetro e retorna o valor da\n",
    "#área desse círculo. Lembrando que a área de círculo é dada pela equação: A = ℼ r^2.\n",
    "\n",
    "raio=(int(input('Digite o raio do circulo')))\n",
    "area=(np.pi*raio**2)\n",
    "print('Area do circulo =',area)"
   ]
  },
  {
   "cell_type": "code",
   "execution_count": 96,
   "id": "e7a77d9e-b0b1-433a-93b6-5fbb93a797b1",
   "metadata": {},
   "outputs": [
    {
     "name": "stdin",
     "output_type": "stream",
     "text": [
      " 25\n",
      " 15\n",
      " 10\n"
     ]
    },
    {
     "name": "stdout",
     "output_type": "stream",
     "text": [
      "o produto entre o dobro do primeiro e a metade do segundo. =  375.0\n",
      "a soma entre o triplo do primeiro e o terceiro. = 85.0\n",
      "o terceiro elevado ao cubo = 1000.0\n"
     ]
    }
   ],
   "source": [
    "#Aluno: Ruan David Da Silva\n",
    "#Trilha: Engenharia de Dados\n",
    "\n",
    "#questão4\n",
    "#Faça um programa que peça 2 números inteiros e um número real, calcule e mostre:\n",
    "#a) o produto entre o dobro do primeiro e a metade do segundo.\n",
    "#b) a soma entre o triplo do primeiro e o terceiro.\n",
    "#c) o terceiro elevado ao cubo\n",
    "\n",
    "inteiro1=(int(input()))\n",
    "inteiro2=(int(input()))\n",
    "real=(float(input()))\n",
    "a=(inteiro1*2) * (inteiro2/2)\n",
    "b=(inteiro1*3)+real\n",
    "c=real**3\n",
    "print('o produto entre o dobro do primeiro e a metade do segundo. = ',a)\n",
    "print('a soma entre o triplo do primeiro e o terceiro. =',b)\n",
    "print('o terceiro elevado ao cubo =',c)"
   ]
  },
  {
   "cell_type": "code",
   "execution_count": null,
   "id": "1004474a-3464-4438-89b7-149da63206bc",
   "metadata": {},
   "outputs": [],
   "source": []
  }
 ],
 "metadata": {
  "kernelspec": {
   "display_name": "Python 3 (ipykernel)",
   "language": "python",
   "name": "python3"
  },
  "language_info": {
   "codemirror_mode": {
    "name": "ipython",
    "version": 3
   },
   "file_extension": ".py",
   "mimetype": "text/x-python",
   "name": "python",
   "nbconvert_exporter": "python",
   "pygments_lexer": "ipython3",
   "version": "3.10.7"
  }
 },
 "nbformat": 4,
 "nbformat_minor": 5
}
